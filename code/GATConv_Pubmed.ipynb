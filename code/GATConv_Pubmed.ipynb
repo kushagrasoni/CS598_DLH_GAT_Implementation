{
 "cells": [
  {
   "cell_type": "markdown",
   "source": [
    "PubMed Dataset"
   ],
   "metadata": {
    "collapsed": false,
    "pycharm": {
     "name": "#%% md\n"
    }
   }
  },
  {
   "cell_type": "code",
   "execution_count": 1,
   "outputs": [],
   "source": [
    "import torch_geometric\n",
    "import torch\n",
    "import torch.nn.functional as F\n",
    "from torch_geometric.datasets import Planetoid\n",
    "from datetime import datetime\n",
    "import numpy as np"
   ],
   "metadata": {
    "collapsed": false,
    "pycharm": {
     "name": "#%%\n"
    }
   }
  },
  {
   "cell_type": "code",
   "execution_count": 2,
   "outputs": [],
   "source": [
    "class GATPubmed(torch.nn.Module):\n",
    "  def __init__(self, in_channels, n_classes, l2_reg):\n",
    "    super().__init__()\n",
    "    self.conv1 = torch_geometric.nn.GATv2Conv(heads=8, out_channels=8, in_channels=in_channels)\n",
    "    self.act1 = torch.nn.ELU()\n",
    "    self.conv2 = torch_geometric.nn.GATv2Conv(heads=8, out_channels=n_classes, in_channels=64, concat=False)\n",
    "    self.act2 = torch.nn.Softmax(dim=1)\n",
    "\n",
    "  def forward(self, x, edge_index):\n",
    "    x = F.dropout(x, p=0.6, training=self.training)\n",
    "    x = self.act1(self.conv1(x, edge_index))\n",
    "    x = self.act2(self.conv2(x, edge_index))\n",
    "    return x"
   ],
   "metadata": {
    "collapsed": false,
    "pycharm": {
     "name": "#%%\n"
    }
   }
  },
  {
   "cell_type": "code",
   "execution_count": 3,
   "outputs": [
    {
     "name": "stdout",
     "output_type": "stream",
     "text": [
      "\n",
      "\n",
      "*****************************************************************************************************\n",
      "\n",
      "                                         Pubmed \n",
      "                                         Total Epochs: 200\n",
      "                                         Test Accuracy: 0.7780\n",
      "                                         Best Accuracy: 1.0000\n",
      "                                         Best Loss: 0.5946\n",
      "                                         Time Taken: 0:02:27.717057\n",
      "\n",
      "*****************************************************************************************************\n",
      "\n",
      "\n"
     ]
    }
   ],
   "source": [
    "\n",
    "start = datetime.now()\n",
    "dataset = Planetoid(root=f'../data/pubmed', name='pubmed')\n",
    "# Define model and optimizer\n",
    "model = GATPubmed(dataset.num_features, dataset.num_classes)\n",
    "optimizer = torch.optim.Adam(model.parameters(), lr=0.005, weight_decay=1e-3)\n",
    "\n",
    "\n",
    "\n",
    "best_epoch = 0\n",
    "best_loss = 1e10\n",
    "patience = 100\n",
    "best_acc = 0.0\n",
    "# Train model\n",
    "for epoch in range(200):\n",
    "  model.train()\n",
    "  optimizer.zero_grad()\n",
    "  out = model(dataset.x, dataset.edge_index)\n",
    "  #loss = F.nll_loss(out[dataset.train_mask], dataset.y[dataset.train_mask])\n",
    "  loss = F.cross_entropy(out[dataset.train_mask], dataset.y[dataset.train_mask])\n",
    "  loss.backward()\n",
    "  optimizer.step()\n",
    "\n",
    "  # Evaluate model\n",
    "  model.eval()\n",
    "  pred = model(dataset.x, dataset.edge_index).argmax(dim=1)\n",
    "  correct = int(pred[dataset.train_mask].eq(dataset.y[dataset.train_mask]).sum().item())\n",
    "  acc = correct / int(dataset.train_mask.sum())\n",
    "\n",
    "  if (acc >= best_acc) or (loss <= best_loss):\n",
    "    best_acc = np.max((acc, best_acc))\n",
    "    best_epoch = np.max((epoch, best_epoch))\n",
    "    best_loss = np.min((loss.detach().numpy(), best_loss))\n",
    "\n",
    "  if epoch - best_epoch > patience:\n",
    "    break\n",
    "\n",
    "\n",
    "#       print(f'Epoch {epoch + 1:03d}, Loss: {loss:.4f}, Test Acc: {acc:.4f}')\n",
    "\n",
    "\n",
    "# Test the model\n",
    "model.eval()\n",
    "out = model(dataset.x, dataset.edge_index)\n",
    "pred = out.argmax(dim=1)\n",
    "acc = pred[dataset.test_mask].eq(dataset.y[dataset.test_mask]).sum().item() / int(dataset.test_mask.sum())\n",
    "print('\\n\\n*****************************************************************************************************\\n')\n",
    "print(f'                                         Pubmed ')\n",
    "print(f'                                         Total Epochs: 200')\n",
    "print(f'                                         Test Accuracy: {acc:.4f}')\n",
    "print(f'                                         Best Accuracy: {best_acc:.4f}')\n",
    "print(f'                                         Best Loss: {best_loss:.4f}')\n",
    "print(f'                                         Time Taken: {datetime.now() - start}')\n",
    "print('\\n*****************************************************************************************************\\n\\n')"
   ],
   "metadata": {
    "collapsed": false,
    "pycharm": {
     "name": "#%%\n"
    }
   }
  },
  {
   "cell_type": "code",
   "execution_count": null,
   "outputs": [],
   "source": [],
   "metadata": {
    "collapsed": false,
    "pycharm": {
     "name": "#%%\n"
    }
   }
  }
 ],
 "metadata": {
  "jupytext": {
   "cell_metadata_filter": "-all",
   "main_language": "python",
   "notebook_metadata_filter": "-all"
  },
  "kernelspec": {
   "display_name": "Python 3 (ipykernel)",
   "language": "python",
   "name": "python3"
  },
  "language_info": {
   "codemirror_mode": {
    "name": "ipython",
    "version": 3
   },
   "file_extension": ".py",
   "mimetype": "text/x-python",
   "name": "python",
   "nbconvert_exporter": "python",
   "pygments_lexer": "ipython3",
   "version": "3.11.3"
  }
 },
 "nbformat": 4,
 "nbformat_minor": 5
}