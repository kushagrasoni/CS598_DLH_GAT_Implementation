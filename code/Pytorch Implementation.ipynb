{
 "cells": [
  {
   "cell_type": "markdown",
   "id": "97e3b3a6",
   "metadata": {},
   "source": [
    "Now to try to use our own GAT Pytorch implementation. Let's see how it goes."
   ]
  },
  {
   "cell_type": "code",
   "execution_count": 101,
   "id": "b3062b94",
   "metadata": {},
   "outputs": [
    {
     "data": {
      "text/plain": [
       "<module 'torch_gat' from '/home/ruy/Downloads/CS598-final/code/torch_gat.py'>"
      ]
     },
     "execution_count": 101,
     "metadata": {},
     "output_type": "execute_result"
    }
   ],
   "source": [
    "import numpy as np\n",
    "import torch_gat\n",
    "import torch_geometric\n",
    "import torch\n",
    "import importlib\n",
    "importlib.reload(torch_gat)"
   ]
  },
  {
   "cell_type": "code",
   "execution_count": null,
   "id": "9d2eb4d1",
   "metadata": {},
   "outputs": [
    {
     "name": "stdout",
     "output_type": "stream",
     "text": [
      "0.2\n",
      "0.2833333333333333\n",
      "0.24166666666666667\n",
      "0.18333333333333332\n",
      "0.3\n",
      "0.23333333333333334\n",
      "0.19166666666666668\n",
      "0.18333333333333332\n",
      "0.25\n",
      "0.2\n",
      "0.25833333333333336\n",
      "0.20833333333333334\n",
      "0.175\n",
      "0.2\n",
      "0.175\n",
      "0.225\n",
      "0.175\n"
     ]
    }
   ],
   "source": [
    "for dataset in ['citeseer', 'cora']:\n",
    "    data = torch_geometric.datasets.Planetoid(root=f'../data/{dataset}', name=dataset)\n",
    "    bias = torch_gat.adj_to_bias(torch_gat.planetoid_adj_to_petarv_adj(data.edge_index).todense()[np.newaxis], [data.x.shape[0]], nhood=1)\n",
    "    model = torch_gat.GAT(data.num_features, data.num_classes, bias)\n",
    "    optimizer = torch.optim.Adam(model.parameters(), lr=.005, weight_decay=5e-4)\n",
    "\n",
    "    for epoch in range(200):\n",
    "        model.train()\n",
    "        optimizer.zero_grad()\n",
    "        out = model(data.x[np.newaxis]).squeeze()\n",
    "        loss = torch.nn.functional.cross_entropy(out[data.train_mask], data.y[data.train_mask])\n",
    "        loss.backward()\n",
    "        optimizer.step()\n",
    "        \n",
    "        if epoch % 10 == 0:\n",
    "            print(out.argmax(dim=1)[data.train_mask].eq(data.y[data.train_mask]).sum().item() / int(data.train_mask.sum()))\n",
    "\n",
    "    model.eval()\n",
    "    out = model(data.x, data.edge_index)\n",
    "    pred = out.argmax(dim=1)\n",
    "    acc = pred[data.test_mask].eq(data.y[data.test_mask]).sum().item() / int(data.test_mask.sum())\n",
    "    print('\\n\\n*****************************************************************************************************\\n')\n",
    "    print(f'                                         {dataset} ')\n",
    "    print(f'                                         Total Epochs: 200')\n",
    "    print(f'                                         Test Accuracy: {acc:.4f}')\n",
    "    print('\\n*****************************************************************************************************\\n\\n')"
   ]
  },
  {
   "cell_type": "code",
   "execution_count": null,
   "id": "4a3c6eb6",
   "metadata": {},
   "outputs": [],
   "source": []
  }
 ],
 "metadata": {
  "kernelspec": {
   "display_name": "Python 3 (ipykernel)",
   "language": "python",
   "name": "python3"
  },
  "language_info": {
   "codemirror_mode": {
    "name": "ipython",
    "version": 3
   },
   "file_extension": ".py",
   "mimetype": "text/x-python",
   "name": "python",
   "nbconvert_exporter": "python",
   "pygments_lexer": "ipython3",
   "version": "3.11.3"
  }
 },
 "nbformat": 4,
 "nbformat_minor": 5
}
