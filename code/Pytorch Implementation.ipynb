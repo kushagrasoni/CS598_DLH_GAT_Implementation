{
 "cells": [
  {
   "cell_type": "markdown",
   "id": "1ebd1c07",
   "metadata": {},
   "source": [
    "Now to try to use our own GAT Pytorch implementation. Let's see how it goes."
   ]
  },
  {
   "cell_type": "code",
   "execution_count": 140,
   "id": "1b99c2e9",
   "metadata": {},
   "outputs": [
    {
     "data": {
      "text/plain": [
       "<module 'torch_gat' from '/home/ruy/Downloads/CS598-final/code/torch_gat.py'>"
      ]
     },
     "execution_count": 140,
     "metadata": {},
     "output_type": "execute_result"
    }
   ],
   "source": [
    "import numpy as np\n",
    "import torch_gat\n",
    "import torch_geometric\n",
    "import torch\n",
    "import importlib\n",
    "importlib.reload(torch_gat)"
   ]
  },
  {
   "cell_type": "code",
   "execution_count": 141,
   "id": "0d1aa708",
   "metadata": {},
   "outputs": [
    {
     "name": "stdout",
     "output_type": "stream",
     "text": [
      "0.21666666666666667\n",
      "0.31666666666666665\n",
      "0.4083333333333333\n",
      "0.4583333333333333\n",
      "0.4666666666666667\n",
      "0.4\n",
      "0.5083333333333333\n",
      "0.475\n",
      "0.4666666666666667\n",
      "0.5083333333333333\n",
      "0.49166666666666664\n",
      "0.43333333333333335\n",
      "0.5\n",
      "0.49166666666666664\n",
      "0.49166666666666664\n",
      "0.4\n",
      "0.5333333333333333\n",
      "0.5916666666666667\n",
      "0.475\n",
      "0.49166666666666664\n",
      "\n",
      "\n",
      "*****************************************************************************************************\n",
      "\n",
      "                                         citeseer \n",
      "                                         Total Epochs: 200\n",
      "                                         Test Accuracy: 0.2180\n",
      "\n",
      "*****************************************************************************************************\n",
      "\n",
      "\n",
      "0.12857142857142856\n",
      "0.32857142857142857\n",
      "0.3\n",
      "0.39285714285714285\n",
      "0.40714285714285714\n",
      "0.45714285714285713\n",
      "0.45714285714285713\n",
      "0.34285714285714286\n",
      "0.4642857142857143\n",
      "0.4142857142857143\n",
      "0.42857142857142855\n",
      "0.42142857142857143\n",
      "0.45714285714285713\n",
      "0.37857142857142856\n",
      "0.4714285714285714\n",
      "0.4857142857142857\n",
      "0.4857142857142857\n",
      "0.45\n",
      "0.45\n",
      "0.44285714285714284\n",
      "\n",
      "\n",
      "*****************************************************************************************************\n",
      "\n",
      "                                         cora \n",
      "                                         Total Epochs: 200\n",
      "                                         Test Accuracy: 0.2780\n",
      "\n",
      "*****************************************************************************************************\n",
      "\n",
      "\n"
     ]
    }
   ],
   "source": [
    "for dataset in ['citeseer', 'cora']:\n",
    "    data = torch_geometric.datasets.Planetoid(root=f'../data/{dataset}', name=dataset)\n",
    "    bias = torch.tensor(torch_gat.adj_to_bias(torch_gat.planetoid_adj_to_petarv_adj(data.edge_index).todense()[np.newaxis], [data.x.shape[0]], nhood=1), requires_grad=False)\n",
    "    model = torch_gat.GAT(data.num_features, data.num_classes, bias)\n",
    "    optimizer = torch.optim.Adam(model.parameters(), lr=.005, weight_decay=5e-4)\n",
    "\n",
    "    for epoch in range(200):\n",
    "        model.train()\n",
    "        optimizer.zero_grad()\n",
    "        out = model(data.x[np.newaxis]).squeeze()\n",
    "        loss = torch.nn.functional.cross_entropy(out[data.train_mask], data.y[data.train_mask])\n",
    "        loss.backward()\n",
    "        optimizer.step()\n",
    "        \n",
    "        if epoch % 10 == 0:\n",
    "            print(out.argmax(dim=1)[data.train_mask].eq(data.y[data.train_mask]).sum().item() / int(data.train_mask.sum()))\n",
    "\n",
    "    model.eval()\n",
    "    out = model(data.x[np.newaxis]).squeeze()\n",
    "    pred = out.argmax(dim=1)\n",
    "    acc = pred[data.test_mask].eq(data.y[data.test_mask]).sum().item() / int(data.test_mask.sum())\n",
    "    print('\\n\\n*****************************************************************************************************\\n')\n",
    "    print(f'                                         {dataset} ')\n",
    "    print(f'                                         Total Epochs: 200')\n",
    "    print(f'                                         Test Accuracy: {acc:.4f}')\n",
    "    print('\\n*****************************************************************************************************\\n\\n')"
   ]
  },
  {
   "cell_type": "code",
   "execution_count": null,
   "id": "2148df84",
   "metadata": {},
   "outputs": [],
   "source": []
  }
 ],
 "metadata": {
  "kernelspec": {
   "display_name": "Python 3 (ipykernel)",
   "language": "python",
   "name": "python3"
  },
  "language_info": {
   "codemirror_mode": {
    "name": "ipython",
    "version": 3
   },
   "file_extension": ".py",
   "mimetype": "text/x-python",
   "name": "python",
   "nbconvert_exporter": "python",
   "pygments_lexer": "ipython3",
   "version": "3.11.3"
  }
 },
 "nbformat": 4,
 "nbformat_minor": 5
}
