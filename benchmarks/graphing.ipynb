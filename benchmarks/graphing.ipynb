{
 "cells": [
  {
   "cell_type": "code",
   "execution_count": 1,
   "id": "12c2612e",
   "metadata": {
    "pycharm": {
     "name": "#%%\n"
    }
   },
   "outputs": [],
   "source": [
    "import seaborn as sns\n",
    "import pandas as pd\n",
    "import matplotlib.pyplot as plt\n",
    "import matplotlib.patches as mpatches"
   ]
  },
  {
   "cell_type": "code",
   "execution_count": 5,
   "id": "f57117b7",
   "metadata": {
    "pycharm": {
     "name": "#%%\n"
    }
   },
   "outputs": [],
   "source": [
    "all_data = pd.read_csv('benchmarking_gat_01.csv')"
   ]
  },
  {
   "cell_type": "code",
   "execution_count": 6,
   "id": "cf5fafd7",
   "metadata": {
    "pycharm": {
     "name": "#%%\n"
    }
   },
   "outputs": [
    {
     "data": {
      "text/html": [
       "<div>\n",
       "<style scoped>\n",
       "    .dataframe tbody tr th:only-of-type {\n",
       "        vertical-align: middle;\n",
       "    }\n",
       "\n",
       "    .dataframe tbody tr th {\n",
       "        vertical-align: top;\n",
       "    }\n",
       "\n",
       "    .dataframe thead th {\n",
       "        text-align: right;\n",
       "    }\n",
       "</style>\n",
       "<table border=\"1\" class=\"dataframe\">\n",
       "  <thead>\n",
       "    <tr style=\"text-align: right;\">\n",
       "      <th></th>\n",
       "      <th>mean</th>\n",
       "      <th>min</th>\n",
       "      <th>q25</th>\n",
       "      <th>median</th>\n",
       "      <th>q75</th>\n",
       "      <th>max</th>\n",
       "      <th>std</th>\n",
       "      <th>log_status</th>\n",
       "      <th>num_tests</th>\n",
       "      <th>app_name</th>\n",
       "      <th>time</th>\n",
       "    </tr>\n",
       "  </thead>\n",
       "  <tbody>\n",
       "    <tr>\n",
       "      <th>0</th>\n",
       "      <td>0.945311</td>\n",
       "      <td>0.932218</td>\n",
       "      <td>0.941422</td>\n",
       "      <td>0.943901</td>\n",
       "      <td>0.947034</td>\n",
       "      <td>1.278614</td>\n",
       "      <td>0.010624</td>\n",
       "      <td>with_log</td>\n",
       "      <td>5000</td>\n",
       "      <td>301_pagerank</td>\n",
       "      <td>4726.556441</td>\n",
       "    </tr>\n",
       "    <tr>\n",
       "      <th>1</th>\n",
       "      <td>1.012048</td>\n",
       "      <td>0.936298</td>\n",
       "      <td>0.985809</td>\n",
       "      <td>0.996844</td>\n",
       "      <td>1.007000</td>\n",
       "      <td>2.579394</td>\n",
       "      <td>0.091986</td>\n",
       "      <td>with_log</td>\n",
       "      <td>2000</td>\n",
       "      <td>301_pagerank</td>\n",
       "      <td>2024.096051</td>\n",
       "    </tr>\n",
       "    <tr>\n",
       "      <th>2</th>\n",
       "      <td>0.955325</td>\n",
       "      <td>0.933344</td>\n",
       "      <td>0.941341</td>\n",
       "      <td>0.944555</td>\n",
       "      <td>0.955615</td>\n",
       "      <td>1.079705</td>\n",
       "      <td>0.022262</td>\n",
       "      <td>with_log</td>\n",
       "      <td>3000</td>\n",
       "      <td>301_pagerank</td>\n",
       "      <td>2865.973694</td>\n",
       "    </tr>\n",
       "    <tr>\n",
       "      <th>3</th>\n",
       "      <td>0.944816</td>\n",
       "      <td>0.933474</td>\n",
       "      <td>0.941127</td>\n",
       "      <td>0.943510</td>\n",
       "      <td>0.946477</td>\n",
       "      <td>1.375074</td>\n",
       "      <td>0.009719</td>\n",
       "      <td>with_log</td>\n",
       "      <td>4000</td>\n",
       "      <td>301_pagerank</td>\n",
       "      <td>3779.265602</td>\n",
       "    </tr>\n",
       "    <tr>\n",
       "      <th>4</th>\n",
       "      <td>1.034871</td>\n",
       "      <td>0.947117</td>\n",
       "      <td>0.987945</td>\n",
       "      <td>1.014887</td>\n",
       "      <td>1.047878</td>\n",
       "      <td>1.660801</td>\n",
       "      <td>0.081930</td>\n",
       "      <td>with_log</td>\n",
       "      <td>1000</td>\n",
       "      <td>301_pagerank</td>\n",
       "      <td>1034.871265</td>\n",
       "    </tr>\n",
       "    <tr>\n",
       "      <th>5</th>\n",
       "      <td>1.019514</td>\n",
       "      <td>0.967146</td>\n",
       "      <td>0.994519</td>\n",
       "      <td>1.012593</td>\n",
       "      <td>1.028193</td>\n",
       "      <td>1.204288</td>\n",
       "      <td>0.040156</td>\n",
       "      <td>with_log</td>\n",
       "      <td>100</td>\n",
       "      <td>301_pagerank</td>\n",
       "      <td>101.951409</td>\n",
       "    </tr>\n",
       "    <tr>\n",
       "      <th>6</th>\n",
       "      <td>0.914439</td>\n",
       "      <td>0.901981</td>\n",
       "      <td>0.909462</td>\n",
       "      <td>0.912003</td>\n",
       "      <td>0.915216</td>\n",
       "      <td>1.297302</td>\n",
       "      <td>0.016788</td>\n",
       "      <td>manual_log</td>\n",
       "      <td>5000</td>\n",
       "      <td>301_pagerank</td>\n",
       "      <td>4572.194608</td>\n",
       "    </tr>\n",
       "    <tr>\n",
       "      <th>7</th>\n",
       "      <td>0.934231</td>\n",
       "      <td>0.902950</td>\n",
       "      <td>0.911242</td>\n",
       "      <td>0.917168</td>\n",
       "      <td>0.961885</td>\n",
       "      <td>1.003114</td>\n",
       "      <td>0.026324</td>\n",
       "      <td>manual_log</td>\n",
       "      <td>2000</td>\n",
       "      <td>301_pagerank</td>\n",
       "      <td>1868.462984</td>\n",
       "    </tr>\n",
       "    <tr>\n",
       "      <th>8</th>\n",
       "      <td>0.914292</td>\n",
       "      <td>0.903425</td>\n",
       "      <td>0.910534</td>\n",
       "      <td>0.912991</td>\n",
       "      <td>0.915784</td>\n",
       "      <td>1.051474</td>\n",
       "      <td>0.007428</td>\n",
       "      <td>manual_log</td>\n",
       "      <td>3000</td>\n",
       "      <td>301_pagerank</td>\n",
       "      <td>2742.876943</td>\n",
       "    </tr>\n",
       "    <tr>\n",
       "      <th>9</th>\n",
       "      <td>0.913917</td>\n",
       "      <td>0.901551</td>\n",
       "      <td>0.910616</td>\n",
       "      <td>0.913145</td>\n",
       "      <td>0.916052</td>\n",
       "      <td>1.147792</td>\n",
       "      <td>0.006836</td>\n",
       "      <td>manual_log</td>\n",
       "      <td>4000</td>\n",
       "      <td>301_pagerank</td>\n",
       "      <td>3655.666686</td>\n",
       "    </tr>\n",
       "    <tr>\n",
       "      <th>10</th>\n",
       "      <td>1.023032</td>\n",
       "      <td>0.931865</td>\n",
       "      <td>0.963713</td>\n",
       "      <td>0.988082</td>\n",
       "      <td>1.035777</td>\n",
       "      <td>1.735371</td>\n",
       "      <td>0.102113</td>\n",
       "      <td>manual_log</td>\n",
       "      <td>1000</td>\n",
       "      <td>301_pagerank</td>\n",
       "      <td>1023.032496</td>\n",
       "    </tr>\n",
       "    <tr>\n",
       "      <th>11</th>\n",
       "      <td>1.002257</td>\n",
       "      <td>0.937195</td>\n",
       "      <td>0.969019</td>\n",
       "      <td>0.994205</td>\n",
       "      <td>1.011155</td>\n",
       "      <td>1.255663</td>\n",
       "      <td>0.048736</td>\n",
       "      <td>manual_log</td>\n",
       "      <td>100</td>\n",
       "      <td>301_pagerank</td>\n",
       "      <td>100.225714</td>\n",
       "    </tr>\n",
       "    <tr>\n",
       "      <th>12</th>\n",
       "      <td>0.579009</td>\n",
       "      <td>0.566422</td>\n",
       "      <td>0.573524</td>\n",
       "      <td>0.576133</td>\n",
       "      <td>0.580358</td>\n",
       "      <td>0.678650</td>\n",
       "      <td>0.011176</td>\n",
       "      <td>with_log</td>\n",
       "      <td>1000</td>\n",
       "      <td>103_increamentor</td>\n",
       "      <td>579.008727</td>\n",
       "    </tr>\n",
       "    <tr>\n",
       "      <th>13</th>\n",
       "      <td>0.576162</td>\n",
       "      <td>0.564954</td>\n",
       "      <td>0.572483</td>\n",
       "      <td>0.574509</td>\n",
       "      <td>0.576938</td>\n",
       "      <td>1.046751</td>\n",
       "      <td>0.012829</td>\n",
       "      <td>with_log</td>\n",
       "      <td>3000</td>\n",
       "      <td>103_increamentor</td>\n",
       "      <td>1728.487143</td>\n",
       "    </tr>\n",
       "    <tr>\n",
       "      <th>14</th>\n",
       "      <td>0.576245</td>\n",
       "      <td>0.566462</td>\n",
       "      <td>0.572483</td>\n",
       "      <td>0.574455</td>\n",
       "      <td>0.576699</td>\n",
       "      <td>0.916768</td>\n",
       "      <td>0.016539</td>\n",
       "      <td>with_log</td>\n",
       "      <td>4000</td>\n",
       "      <td>103_increamentor</td>\n",
       "      <td>2304.981688</td>\n",
       "    </tr>\n",
       "    <tr>\n",
       "      <th>15</th>\n",
       "      <td>0.573551</td>\n",
       "      <td>0.563616</td>\n",
       "      <td>0.570835</td>\n",
       "      <td>0.572741</td>\n",
       "      <td>0.574698</td>\n",
       "      <td>0.832491</td>\n",
       "      <td>0.010140</td>\n",
       "      <td>with_log</td>\n",
       "      <td>5000</td>\n",
       "      <td>103_increamentor</td>\n",
       "      <td>2867.752824</td>\n",
       "    </tr>\n",
       "    <tr>\n",
       "      <th>16</th>\n",
       "      <td>0.632012</td>\n",
       "      <td>0.575869</td>\n",
       "      <td>0.617086</td>\n",
       "      <td>0.625989</td>\n",
       "      <td>0.643695</td>\n",
       "      <td>0.742850</td>\n",
       "      <td>0.023345</td>\n",
       "      <td>with_log</td>\n",
       "      <td>100</td>\n",
       "      <td>103_increamentor</td>\n",
       "      <td>63.201222</td>\n",
       "    </tr>\n",
       "    <tr>\n",
       "      <th>17</th>\n",
       "      <td>0.574789</td>\n",
       "      <td>0.566975</td>\n",
       "      <td>0.571875</td>\n",
       "      <td>0.573547</td>\n",
       "      <td>0.575874</td>\n",
       "      <td>1.110427</td>\n",
       "      <td>0.014870</td>\n",
       "      <td>with_log</td>\n",
       "      <td>2000</td>\n",
       "      <td>103_increamentor</td>\n",
       "      <td>1149.577503</td>\n",
       "    </tr>\n",
       "    <tr>\n",
       "      <th>18</th>\n",
       "      <td>0.526253</td>\n",
       "      <td>0.518703</td>\n",
       "      <td>0.523291</td>\n",
       "      <td>0.525209</td>\n",
       "      <td>0.527056</td>\n",
       "      <td>0.782083</td>\n",
       "      <td>0.011222</td>\n",
       "      <td>without_log</td>\n",
       "      <td>1000</td>\n",
       "      <td>103_increamentor</td>\n",
       "      <td>526.253030</td>\n",
       "    </tr>\n",
       "    <tr>\n",
       "      <th>19</th>\n",
       "      <td>0.526052</td>\n",
       "      <td>0.518377</td>\n",
       "      <td>0.523882</td>\n",
       "      <td>0.525689</td>\n",
       "      <td>0.527542</td>\n",
       "      <td>0.596213</td>\n",
       "      <td>0.003808</td>\n",
       "      <td>without_log</td>\n",
       "      <td>3000</td>\n",
       "      <td>103_increamentor</td>\n",
       "      <td>1578.156939</td>\n",
       "    </tr>\n",
       "    <tr>\n",
       "      <th>20</th>\n",
       "      <td>0.525997</td>\n",
       "      <td>0.517115</td>\n",
       "      <td>0.522245</td>\n",
       "      <td>0.523945</td>\n",
       "      <td>0.525967</td>\n",
       "      <td>0.998046</td>\n",
       "      <td>0.017567</td>\n",
       "      <td>without_log</td>\n",
       "      <td>4000</td>\n",
       "      <td>103_increamentor</td>\n",
       "      <td>2103.987097</td>\n",
       "    </tr>\n",
       "    <tr>\n",
       "      <th>21</th>\n",
       "      <td>0.543475</td>\n",
       "      <td>0.514763</td>\n",
       "      <td>0.523064</td>\n",
       "      <td>0.526288</td>\n",
       "      <td>0.547376</td>\n",
       "      <td>1.247756</td>\n",
       "      <td>0.049333</td>\n",
       "      <td>without_log</td>\n",
       "      <td>5000</td>\n",
       "      <td>103_increamentor</td>\n",
       "      <td>2717.376103</td>\n",
       "    </tr>\n",
       "    <tr>\n",
       "      <th>22</th>\n",
       "      <td>0.580029</td>\n",
       "      <td>0.546184</td>\n",
       "      <td>0.555383</td>\n",
       "      <td>0.574018</td>\n",
       "      <td>0.592052</td>\n",
       "      <td>0.778033</td>\n",
       "      <td>0.033690</td>\n",
       "      <td>without_log</td>\n",
       "      <td>100</td>\n",
       "      <td>103_increamentor</td>\n",
       "      <td>58.002932</td>\n",
       "    </tr>\n",
       "    <tr>\n",
       "      <th>23</th>\n",
       "      <td>0.524928</td>\n",
       "      <td>0.517773</td>\n",
       "      <td>0.522747</td>\n",
       "      <td>0.524474</td>\n",
       "      <td>0.526449</td>\n",
       "      <td>0.592257</td>\n",
       "      <td>0.003975</td>\n",
       "      <td>without_log</td>\n",
       "      <td>2000</td>\n",
       "      <td>103_increamentor</td>\n",
       "      <td>1049.855170</td>\n",
       "    </tr>\n",
       "    <tr>\n",
       "      <th>24</th>\n",
       "      <td>0.843002</td>\n",
       "      <td>0.781925</td>\n",
       "      <td>0.812795</td>\n",
       "      <td>0.830804</td>\n",
       "      <td>0.857719</td>\n",
       "      <td>1.476072</td>\n",
       "      <td>0.053493</td>\n",
       "      <td>with_log</td>\n",
       "      <td>3000</td>\n",
       "      <td>101_rest</td>\n",
       "      <td>2529.006528</td>\n",
       "    </tr>\n",
       "    <tr>\n",
       "      <th>25</th>\n",
       "      <td>0.846275</td>\n",
       "      <td>0.781005</td>\n",
       "      <td>0.817636</td>\n",
       "      <td>0.833896</td>\n",
       "      <td>0.857418</td>\n",
       "      <td>1.828210</td>\n",
       "      <td>0.059583</td>\n",
       "      <td>with_log</td>\n",
       "      <td>4000</td>\n",
       "      <td>101_rest</td>\n",
       "      <td>3385.099548</td>\n",
       "    </tr>\n",
       "    <tr>\n",
       "      <th>26</th>\n",
       "      <td>0.899146</td>\n",
       "      <td>0.780344</td>\n",
       "      <td>0.815145</td>\n",
       "      <td>0.845025</td>\n",
       "      <td>0.973976</td>\n",
       "      <td>2.230121</td>\n",
       "      <td>0.121334</td>\n",
       "      <td>with_log</td>\n",
       "      <td>5000</td>\n",
       "      <td>101_rest</td>\n",
       "      <td>4495.730837</td>\n",
       "    </tr>\n",
       "    <tr>\n",
       "      <th>27</th>\n",
       "      <td>0.883159</td>\n",
       "      <td>0.799442</td>\n",
       "      <td>0.838435</td>\n",
       "      <td>0.868113</td>\n",
       "      <td>0.919007</td>\n",
       "      <td>1.328629</td>\n",
       "      <td>0.071815</td>\n",
       "      <td>with_log</td>\n",
       "      <td>100</td>\n",
       "      <td>101_rest</td>\n",
       "      <td>88.315924</td>\n",
       "    </tr>\n",
       "    <tr>\n",
       "      <th>28</th>\n",
       "      <td>0.808866</td>\n",
       "      <td>0.779230</td>\n",
       "      <td>0.798009</td>\n",
       "      <td>0.808190</td>\n",
       "      <td>0.816273</td>\n",
       "      <td>1.152234</td>\n",
       "      <td>0.017305</td>\n",
       "      <td>with_log</td>\n",
       "      <td>2000</td>\n",
       "      <td>101_rest</td>\n",
       "      <td>1617.732418</td>\n",
       "    </tr>\n",
       "    <tr>\n",
       "      <th>29</th>\n",
       "      <td>0.809912</td>\n",
       "      <td>0.777927</td>\n",
       "      <td>0.800224</td>\n",
       "      <td>0.808616</td>\n",
       "      <td>0.816861</td>\n",
       "      <td>1.093521</td>\n",
       "      <td>0.019541</td>\n",
       "      <td>with_log</td>\n",
       "      <td>1000</td>\n",
       "      <td>101_rest</td>\n",
       "      <td>809.911784</td>\n",
       "    </tr>\n",
       "    <tr>\n",
       "      <th>30</th>\n",
       "      <td>0.825001</td>\n",
       "      <td>0.756331</td>\n",
       "      <td>0.798977</td>\n",
       "      <td>0.817884</td>\n",
       "      <td>0.838923</td>\n",
       "      <td>1.344567</td>\n",
       "      <td>0.044781</td>\n",
       "      <td>without_log</td>\n",
       "      <td>3000</td>\n",
       "      <td>101_rest</td>\n",
       "      <td>2475.002920</td>\n",
       "    </tr>\n",
       "    <tr>\n",
       "      <th>31</th>\n",
       "      <td>0.789822</td>\n",
       "      <td>0.743619</td>\n",
       "      <td>0.773848</td>\n",
       "      <td>0.784368</td>\n",
       "      <td>0.796716</td>\n",
       "      <td>1.426957</td>\n",
       "      <td>0.030679</td>\n",
       "      <td>without_log</td>\n",
       "      <td>4000</td>\n",
       "      <td>101_rest</td>\n",
       "      <td>3159.289832</td>\n",
       "    </tr>\n",
       "    <tr>\n",
       "      <th>32</th>\n",
       "      <td>0.787290</td>\n",
       "      <td>0.752778</td>\n",
       "      <td>0.775457</td>\n",
       "      <td>0.784771</td>\n",
       "      <td>0.794388</td>\n",
       "      <td>1.480208</td>\n",
       "      <td>0.029029</td>\n",
       "      <td>without_log</td>\n",
       "      <td>5000</td>\n",
       "      <td>101_rest</td>\n",
       "      <td>3936.450620</td>\n",
       "    </tr>\n",
       "    <tr>\n",
       "      <th>33</th>\n",
       "      <td>0.817897</td>\n",
       "      <td>0.768779</td>\n",
       "      <td>0.787039</td>\n",
       "      <td>0.799547</td>\n",
       "      <td>0.818681</td>\n",
       "      <td>1.209972</td>\n",
       "      <td>0.065714</td>\n",
       "      <td>without_log</td>\n",
       "      <td>100</td>\n",
       "      <td>101_rest</td>\n",
       "      <td>81.789729</td>\n",
       "    </tr>\n",
       "    <tr>\n",
       "      <th>34</th>\n",
       "      <td>0.786159</td>\n",
       "      <td>0.753103</td>\n",
       "      <td>0.775888</td>\n",
       "      <td>0.785052</td>\n",
       "      <td>0.794276</td>\n",
       "      <td>1.113955</td>\n",
       "      <td>0.016554</td>\n",
       "      <td>without_log</td>\n",
       "      <td>2000</td>\n",
       "      <td>101_rest</td>\n",
       "      <td>1572.318538</td>\n",
       "    </tr>\n",
       "    <tr>\n",
       "      <th>35</th>\n",
       "      <td>0.784611</td>\n",
       "      <td>0.756012</td>\n",
       "      <td>0.774776</td>\n",
       "      <td>0.784174</td>\n",
       "      <td>0.791735</td>\n",
       "      <td>1.090199</td>\n",
       "      <td>0.016870</td>\n",
       "      <td>without_log</td>\n",
       "      <td>1000</td>\n",
       "      <td>101_rest</td>\n",
       "      <td>784.610505</td>\n",
       "    </tr>\n",
       "  </tbody>\n",
       "</table>\n",
       "</div>"
      ],
      "text/plain": [
       "        mean       min       q25    median       q75       max       std  \\\n",
       "0   0.945311  0.932218  0.941422  0.943901  0.947034  1.278614  0.010624   \n",
       "1   1.012048  0.936298  0.985809  0.996844  1.007000  2.579394  0.091986   \n",
       "2   0.955325  0.933344  0.941341  0.944555  0.955615  1.079705  0.022262   \n",
       "3   0.944816  0.933474  0.941127  0.943510  0.946477  1.375074  0.009719   \n",
       "4   1.034871  0.947117  0.987945  1.014887  1.047878  1.660801  0.081930   \n",
       "5   1.019514  0.967146  0.994519  1.012593  1.028193  1.204288  0.040156   \n",
       "6   0.914439  0.901981  0.909462  0.912003  0.915216  1.297302  0.016788   \n",
       "7   0.934231  0.902950  0.911242  0.917168  0.961885  1.003114  0.026324   \n",
       "8   0.914292  0.903425  0.910534  0.912991  0.915784  1.051474  0.007428   \n",
       "9   0.913917  0.901551  0.910616  0.913145  0.916052  1.147792  0.006836   \n",
       "10  1.023032  0.931865  0.963713  0.988082  1.035777  1.735371  0.102113   \n",
       "11  1.002257  0.937195  0.969019  0.994205  1.011155  1.255663  0.048736   \n",
       "12  0.579009  0.566422  0.573524  0.576133  0.580358  0.678650  0.011176   \n",
       "13  0.576162  0.564954  0.572483  0.574509  0.576938  1.046751  0.012829   \n",
       "14  0.576245  0.566462  0.572483  0.574455  0.576699  0.916768  0.016539   \n",
       "15  0.573551  0.563616  0.570835  0.572741  0.574698  0.832491  0.010140   \n",
       "16  0.632012  0.575869  0.617086  0.625989  0.643695  0.742850  0.023345   \n",
       "17  0.574789  0.566975  0.571875  0.573547  0.575874  1.110427  0.014870   \n",
       "18  0.526253  0.518703  0.523291  0.525209  0.527056  0.782083  0.011222   \n",
       "19  0.526052  0.518377  0.523882  0.525689  0.527542  0.596213  0.003808   \n",
       "20  0.525997  0.517115  0.522245  0.523945  0.525967  0.998046  0.017567   \n",
       "21  0.543475  0.514763  0.523064  0.526288  0.547376  1.247756  0.049333   \n",
       "22  0.580029  0.546184  0.555383  0.574018  0.592052  0.778033  0.033690   \n",
       "23  0.524928  0.517773  0.522747  0.524474  0.526449  0.592257  0.003975   \n",
       "24  0.843002  0.781925  0.812795  0.830804  0.857719  1.476072  0.053493   \n",
       "25  0.846275  0.781005  0.817636  0.833896  0.857418  1.828210  0.059583   \n",
       "26  0.899146  0.780344  0.815145  0.845025  0.973976  2.230121  0.121334   \n",
       "27  0.883159  0.799442  0.838435  0.868113  0.919007  1.328629  0.071815   \n",
       "28  0.808866  0.779230  0.798009  0.808190  0.816273  1.152234  0.017305   \n",
       "29  0.809912  0.777927  0.800224  0.808616  0.816861  1.093521  0.019541   \n",
       "30  0.825001  0.756331  0.798977  0.817884  0.838923  1.344567  0.044781   \n",
       "31  0.789822  0.743619  0.773848  0.784368  0.796716  1.426957  0.030679   \n",
       "32  0.787290  0.752778  0.775457  0.784771  0.794388  1.480208  0.029029   \n",
       "33  0.817897  0.768779  0.787039  0.799547  0.818681  1.209972  0.065714   \n",
       "34  0.786159  0.753103  0.775888  0.785052  0.794276  1.113955  0.016554   \n",
       "35  0.784611  0.756012  0.774776  0.784174  0.791735  1.090199  0.016870   \n",
       "\n",
       "     log_status  num_tests          app_name         time  \n",
       "0      with_log       5000      301_pagerank  4726.556441  \n",
       "1      with_log       2000      301_pagerank  2024.096051  \n",
       "2      with_log       3000      301_pagerank  2865.973694  \n",
       "3      with_log       4000      301_pagerank  3779.265602  \n",
       "4      with_log       1000      301_pagerank  1034.871265  \n",
       "5      with_log        100      301_pagerank   101.951409  \n",
       "6    manual_log       5000      301_pagerank  4572.194608  \n",
       "7    manual_log       2000      301_pagerank  1868.462984  \n",
       "8    manual_log       3000      301_pagerank  2742.876943  \n",
       "9    manual_log       4000      301_pagerank  3655.666686  \n",
       "10   manual_log       1000      301_pagerank  1023.032496  \n",
       "11   manual_log        100      301_pagerank   100.225714  \n",
       "12     with_log       1000  103_increamentor   579.008727  \n",
       "13     with_log       3000  103_increamentor  1728.487143  \n",
       "14     with_log       4000  103_increamentor  2304.981688  \n",
       "15     with_log       5000  103_increamentor  2867.752824  \n",
       "16     with_log        100  103_increamentor    63.201222  \n",
       "17     with_log       2000  103_increamentor  1149.577503  \n",
       "18  without_log       1000  103_increamentor   526.253030  \n",
       "19  without_log       3000  103_increamentor  1578.156939  \n",
       "20  without_log       4000  103_increamentor  2103.987097  \n",
       "21  without_log       5000  103_increamentor  2717.376103  \n",
       "22  without_log        100  103_increamentor    58.002932  \n",
       "23  without_log       2000  103_increamentor  1049.855170  \n",
       "24     with_log       3000          101_rest  2529.006528  \n",
       "25     with_log       4000          101_rest  3385.099548  \n",
       "26     with_log       5000          101_rest  4495.730837  \n",
       "27     with_log        100          101_rest    88.315924  \n",
       "28     with_log       2000          101_rest  1617.732418  \n",
       "29     with_log       1000          101_rest   809.911784  \n",
       "30  without_log       3000          101_rest  2475.002920  \n",
       "31  without_log       4000          101_rest  3159.289832  \n",
       "32  without_log       5000          101_rest  3936.450620  \n",
       "33  without_log        100          101_rest    81.789729  \n",
       "34  without_log       2000          101_rest  1572.318538  \n",
       "35  without_log       1000          101_rest   784.610505  "
      ]
     },
     "execution_count": 6,
     "metadata": {},
     "output_type": "execute_result"
    }
   ],
   "source": [
    "all_data"
   ]
  },
  {
   "cell_type": "code",
   "execution_count": 38,
   "id": "a34a9a7b",
   "metadata": {
    "pycharm": {
     "name": "#%%\n"
    }
   },
   "outputs": [],
   "source": [
    "page_rank_app = all_data.loc[all_data['app_name'] == '301_pagerank']"
   ]
  },
  {
   "cell_type": "markdown",
   "id": "dad5b44a",
   "metadata": {
    "pycharm": {
     "name": "#%% md\n"
    }
   },
   "source": [
    "Creating Graph for Page Rank App - With Logless Logs and Manual Logs - Benchmarking"
   ]
  },
  {
   "cell_type": "code",
   "execution_count": 39,
   "id": "68357a98",
   "metadata": {
    "pycharm": {
     "name": "#%%\n"
    }
   },
   "outputs": [
    {
     "data": {
      "text/plain": "<Figure size 640x480 with 1 Axes>",
      "image/png": "[encoded data removed]"
     },
     "metadata": {},
     "output_type": "display_data"
    },
    {
     "data": {
      "text/plain": "<Figure size 640x480 with 0 Axes>"
     },
     "metadata": {},
     "output_type": "display_data"
    }
   ],
   "source": [
    "pagerank_app_mean = sns.lineplot(\n",
    "    data=page_rank_app,\n",
    "    x=\"num_tests\",\n",
    "    y=\"mean\",\n",
    "    hue=\"log_status\",\n",
    "    palette = sns.color_palette(palette = [\"SteelBlue\" , \"Salmon\"])).set(title='Page Rank App: mean',\n",
    "                                                                        xlabel='Number of Tests', \n",
    "                                                                        ylabel='Mean time(s)')\n",
    "\n",
    "logless_logs = mpatches.Patch(color='SteelBlue', label='With LogLess')\n",
    "manual_logs = mpatches.Patch(color='Salmon', label='Manual Logs')\n",
    "\n",
    "plt.legend(handles=[logless_logs, manual_logs], title='Log Status', bbox_to_anchor=(1.02, 1), loc='upper left', borderaxespad=0)\n",
    "\n",
    "\n",
    "plt.show()\n",
    "plt.savefig('pagerank_app_mean.png')"
   ]
  },
  {
   "cell_type": "markdown",
   "id": "cebb48d7",
   "metadata": {
    "pycharm": {
     "name": "#%% md\n"
    }
   },
   "source": [
    "Adding a Mean Overhead metrics to the Benchmarking data"
   ]
  },
  {
   "cell_type": "code",
   "execution_count": 40,
   "id": "a640998b",
   "metadata": {
    "pycharm": {
     "name": "#%%\n"
    }
   },
   "outputs": [
    {
     "data": {
      "text/plain": "        mean       min       q25    median       q75       max       std  \\\n11  1.002257  0.937195  0.969019  0.994205  1.011155  1.255663  0.048736   \n5   1.019514  0.967146  0.994519  1.012593  1.028193  1.204288  0.040156   \n10  1.023032  0.931865  0.963713  0.988082  1.035777  1.735371  0.102113   \n4   1.034871  0.947117  0.987945  1.014887  1.047878  1.660801  0.081930   \n7   0.934231  0.902950  0.911242  0.917168  0.961885  1.003114  0.026324   \n1   1.012048  0.936298  0.985809  0.996844  1.007000  2.579394  0.091986   \n8   0.914292  0.903425  0.910534  0.912991  0.915784  1.051474  0.007428   \n2   0.955325  0.933344  0.941341  0.944555  0.955615  1.079705  0.022262   \n9   0.913917  0.901551  0.910616  0.913145  0.916052  1.147792  0.006836   \n3   0.944816  0.933474  0.941127  0.943510  0.946477  1.375074  0.009719   \n6   0.914439  0.901981  0.909462  0.912003  0.915216  1.297302  0.016788   \n0   0.945311  0.932218  0.941422  0.943901  0.947034  1.278614  0.010624   \n\n    log_status  num_tests      app_name         time  mean_overhead  \n11  manual_log        100  301_pagerank   100.225714            NaN  \n5     with_log        100  301_pagerank   101.951409       1.721809  \n10  manual_log       1000  301_pagerank  1023.032496            NaN  \n4     with_log       1000  301_pagerank  1034.871265       1.157223  \n7   manual_log       2000  301_pagerank  1868.462984            NaN  \n1     with_log       2000  301_pagerank  2024.096051       8.329470  \n8   manual_log       3000  301_pagerank  2742.876943            NaN  \n2     with_log       3000  301_pagerank  2865.973694       4.487870  \n9   manual_log       4000  301_pagerank  3655.666686            NaN  \n3     with_log       4000  301_pagerank  3779.265602       3.381023  \n6   manual_log       5000  301_pagerank  4572.194608            NaN  \n0     with_log       5000  301_pagerank  4726.556441       3.376099  ",
      "text/html": "<div>\n<style scoped>\n    .dataframe tbody tr th:only-of-type {\n        vertical-align: middle;\n    }\n\n    .dataframe tbody tr th {\n        vertical-align: top;\n    }\n\n    .dataframe thead th {\n        text-align: right;\n    }\n</style>\n<table border=\"1\" class=\"dataframe\">\n  <thead>\n    <tr style=\"text-align: right;\">\n      <th></th>\n      <th>mean</th>\n      <th>min</th>\n      <th>q25</th>\n      <th>median</th>\n      <th>q75</th>\n      <th>max</th>\n      <th>std</th>\n      <th>log_status</th>\n      <th>num_tests</th>\n      <th>app_name</th>\n      <th>time</th>\n      <th>mean_overhead</th>\n    </tr>\n  </thead>\n  <tbody>\n    <tr>\n      <th>11</th>\n      <td>1.002257</td>\n      <td>0.937195</td>\n      <td>0.969019</td>\n      <td>0.994205</td>\n      <td>1.011155</td>\n      <td>1.255663</td>\n      <td>0.048736</td>\n      <td>manual_log</td>\n      <td>100</td>\n      <td>301_pagerank</td>\n      <td>100.225714</td>\n      <td>NaN</td>\n    </tr>\n    <tr>\n      <th>5</th>\n      <td>1.019514</td>\n      <td>0.967146</td>\n      <td>0.994519</td>\n      <td>1.012593</td>\n      <td>1.028193</td>\n      <td>1.204288</td>\n      <td>0.040156</td>\n      <td>with_log</td>\n      <td>100</td>\n      <td>301_pagerank</td>\n      <td>101.951409</td>\n      <td>1.721809</td>\n    </tr>\n    <tr>\n      <th>10</th>\n      <td>1.023032</td>\n      <td>0.931865</td>\n      <td>0.963713</td>\n      <td>0.988082</td>\n      <td>1.035777</td>\n      <td>1.735371</td>\n      <td>0.102113</td>\n      <td>manual_log</td>\n      <td>1000</td>\n      <td>301_pagerank</td>\n      <td>1023.032496</td>\n      <td>NaN</td>\n    </tr>\n    <tr>\n      <th>4</th>\n      <td>1.034871</td>\n      <td>0.947117</td>\n      <td>0.987945</td>\n      <td>1.014887</td>\n      <td>1.047878</td>\n      <td>1.660801</td>\n      <td>0.081930</td>\n      <td>with_log</td>\n      <td>1000</td>\n      <td>301_pagerank</td>\n      <td>1034.871265</td>\n      <td>1.157223</td>\n    </tr>\n    <tr>\n      <th>7</th>\n      <td>0.934231</td>\n      <td>0.902950</td>\n      <td>0.911242</td>\n      <td>0.917168</td>\n      <td>0.961885</td>\n      <td>1.003114</td>\n      <td>0.026324</td>\n      <td>manual_log</td>\n      <td>2000</td>\n      <td>301_pagerank</td>\n      <td>1868.462984</td>\n      <td>NaN</td>\n    </tr>\n    <tr>\n      <th>1</th>\n      <td>1.012048</td>\n      <td>0.936298</td>\n      <td>0.985809</td>\n      <td>0.996844</td>\n      <td>1.007000</td>\n      <td>2.579394</td>\n      <td>0.091986</td>\n      <td>with_log</td>\n      <td>2000</td>\n      <td>301_pagerank</td>\n      <td>2024.096051</td>\n      <td>8.329470</td>\n    </tr>\n    <tr>\n      <th>8</th>\n      <td>0.914292</td>\n      <td>0.903425</td>\n      <td>0.910534</td>\n      <td>0.912991</td>\n      <td>0.915784</td>\n      <td>1.051474</td>\n      <td>0.007428</td>\n      <td>manual_log</td>\n      <td>3000</td>\n      <td>301_pagerank</td>\n      <td>2742.876943</td>\n      <td>NaN</td>\n    </tr>\n    <tr>\n      <th>2</th>\n      <td>0.955325</td>\n      <td>0.933344</td>\n      <td>0.941341</td>\n      <td>0.944555</td>\n      <td>0.955615</td>\n      <td>1.079705</td>\n      <td>0.022262</td>\n      <td>with_log</td>\n      <td>3000</td>\n      <td>301_pagerank</td>\n      <td>2865.973694</td>\n      <td>4.487870</td>\n    </tr>\n    <tr>\n      <th>9</th>\n      <td>0.913917</td>\n      <td>0.901551</td>\n      <td>0.910616</td>\n      <td>0.913145</td>\n      <td>0.916052</td>\n      <td>1.147792</td>\n      <td>0.006836</td>\n      <td>manual_log</td>\n      <td>4000</td>\n      <td>301_pagerank</td>\n      <td>3655.666686</td>\n      <td>NaN</td>\n    </tr>\n    <tr>\n      <th>3</th>\n      <td>0.944816</td>\n      <td>0.933474</td>\n      <td>0.941127</td>\n      <td>0.943510</td>\n      <td>0.946477</td>\n      <td>1.375074</td>\n      <td>0.009719</td>\n      <td>with_log</td>\n      <td>4000</td>\n      <td>301_pagerank</td>\n      <td>3779.265602</td>\n      <td>3.381023</td>\n    </tr>\n    <tr>\n      <th>6</th>\n      <td>0.914439</td>\n      <td>0.901981</td>\n      <td>0.909462</td>\n      <td>0.912003</td>\n      <td>0.915216</td>\n      <td>1.297302</td>\n      <td>0.016788</td>\n      <td>manual_log</td>\n      <td>5000</td>\n      <td>301_pagerank</td>\n      <td>4572.194608</td>\n      <td>NaN</td>\n    </tr>\n    <tr>\n      <th>0</th>\n      <td>0.945311</td>\n      <td>0.932218</td>\n      <td>0.941422</td>\n      <td>0.943901</td>\n      <td>0.947034</td>\n      <td>1.278614</td>\n      <td>0.010624</td>\n      <td>with_log</td>\n      <td>5000</td>\n      <td>301_pagerank</td>\n      <td>4726.556441</td>\n      <td>3.376099</td>\n    </tr>\n  </tbody>\n</table>\n</div>"
     },
     "execution_count": 40,
     "metadata": {},
     "output_type": "execute_result"
    }
   ],
   "source": [
    "df = page_rank_app.sort_values(by=['app_name', 'num_tests', 'log_status'], ascending=True)\n",
    "df['mean_overhead'] = df.groupby(['app_name', 'num_tests'], group_keys=True)['mean'].apply(lambda x: x.pct_change()*100).to_numpy()\n",
    "df"
   ]
  },
  {
   "cell_type": "code",
   "execution_count": 41,
   "id": "9572ce76",
   "metadata": {
    "pycharm": {
     "name": "#%%\n"
    }
   },
   "outputs": [
    {
     "data": {
      "text/plain": "<Figure size 640x480 with 1 Axes>",
      "image/png": "[encoded data removed]"
     },
     "metadata": {},
     "output_type": "display_data"
    },
    {
     "data": {
      "text/plain": "<Figure size 640x480 with 0 Axes>"
     },
     "metadata": {},
     "output_type": "display_data"
    }
   ],
   "source": [
    "pagerank_app_mean_overhead = sns.lineplot(\n",
    "    data=df,\n",
    "    x=\"num_tests\",\n",
    "    y=\"mean_overhead\",\n",
    "    hue=\"log_status\",\n",
    "    palette = sns.color_palette(palette = [\"SteelBlue\", \"Salmon\"])).set(title='Page Rank App: Mean Overhead',\n",
    "                                                                         xlabel='Number of Tests',\n",
    "                                                                         ylabel='Mean Overhead (%age)')\n",
    "\n",
    "logless_logs = mpatches.Patch(color='Salmon', label='Mean Overhead')\n",
    "\n",
    "plt.legend(handles=[logless_logs], title='Benchmarking', bbox_to_anchor=(1.02, 1), loc='upper left', borderaxespad=0)\n",
    "\n",
    "\n",
    "plt.show()\n",
    "plt.savefig('pagerank_app_mean_overhead.png')"
   ]
  },
  {
   "cell_type": "code",
   "execution_count": 42,
   "id": "7d710fd7",
   "metadata": {
    "pycharm": {
     "name": "#%%\n"
    }
   },
   "outputs": [],
   "source": [
    "rest_app = all_data.loc[all_data['app_name'] == '101_rest']"
   ]
  },
  {
   "cell_type": "code",
   "execution_count": 43,
   "id": "bf0c4c1f",
   "metadata": {
    "pycharm": {
     "name": "#%%\n"
    }
   },
   "outputs": [
    {
     "data": {
      "text/plain": "        mean       min       q25    median       q75       max       std  \\\n32  0.787290  0.752778  0.775457  0.784771  0.794388  1.480208  0.029029   \n26  0.899146  0.780344  0.815145  0.845025  0.973976  2.230121  0.121334   \n31  0.789822  0.743619  0.773848  0.784368  0.796716  1.426957  0.030679   \n25  0.846275  0.781005  0.817636  0.833896  0.857418  1.828210  0.059583   \n30  0.825001  0.756331  0.798977  0.817884  0.838923  1.344567  0.044781   \n24  0.843002  0.781925  0.812795  0.830804  0.857719  1.476072  0.053493   \n34  0.786159  0.753103  0.775888  0.785052  0.794276  1.113955  0.016554   \n28  0.808866  0.779230  0.798009  0.808190  0.816273  1.152234  0.017305   \n35  0.784611  0.756012  0.774776  0.784174  0.791735  1.090199  0.016870   \n29  0.809912  0.777927  0.800224  0.808616  0.816861  1.093521  0.019541   \n33  0.817897  0.768779  0.787039  0.799547  0.818681  1.209972  0.065714   \n27  0.883159  0.799442  0.838435  0.868113  0.919007  1.328629  0.071815   \n\n     log_status  num_tests  app_name         time  mean_overhead  \n32  without_log       5000  101_rest  3936.450620            NaN  \n26     with_log       5000  101_rest  4495.730837       7.979236  \n31  without_log       4000  101_rest  3159.289832            NaN  \n25     with_log       4000  101_rest  3385.099548       3.224693  \n30  without_log       3000  101_rest  2475.002920            NaN  \n24     with_log       3000  101_rest  2529.006528       2.888338  \n34  without_log       2000  101_rest  1572.318538            NaN  \n28     with_log       2000  101_rest  1617.732418       2.181961  \n35  without_log       1000  101_rest   784.610505            NaN  \n29     with_log       1000  101_rest   809.911784       7.147483  \n33  without_log        100  101_rest    81.789729            NaN  \n27     with_log        100  101_rest    88.315924      14.207728  ",
      "text/html": "<div>\n<style scoped>\n    .dataframe tbody tr th:only-of-type {\n        vertical-align: middle;\n    }\n\n    .dataframe tbody tr th {\n        vertical-align: top;\n    }\n\n    .dataframe thead th {\n        text-align: right;\n    }\n</style>\n<table border=\"1\" class=\"dataframe\">\n  <thead>\n    <tr style=\"text-align: right;\">\n      <th></th>\n      <th>mean</th>\n      <th>min</th>\n      <th>q25</th>\n      <th>median</th>\n      <th>q75</th>\n      <th>max</th>\n      <th>std</th>\n      <th>log_status</th>\n      <th>num_tests</th>\n      <th>app_name</th>\n      <th>time</th>\n      <th>mean_overhead</th>\n    </tr>\n  </thead>\n  <tbody>\n    <tr>\n      <th>32</th>\n      <td>0.787290</td>\n      <td>0.752778</td>\n      <td>0.775457</td>\n      <td>0.784771</td>\n      <td>0.794388</td>\n      <td>1.480208</td>\n      <td>0.029029</td>\n      <td>without_log</td>\n      <td>5000</td>\n      <td>101_rest</td>\n      <td>3936.450620</td>\n      <td>NaN</td>\n    </tr>\n    <tr>\n      <th>26</th>\n      <td>0.899146</td>\n      <td>0.780344</td>\n      <td>0.815145</td>\n      <td>0.845025</td>\n      <td>0.973976</td>\n      <td>2.230121</td>\n      <td>0.121334</td>\n      <td>with_log</td>\n      <td>5000</td>\n      <td>101_rest</td>\n      <td>4495.730837</td>\n      <td>7.979236</td>\n    </tr>\n    <tr>\n      <th>31</th>\n      <td>0.789822</td>\n      <td>0.743619</td>\n      <td>0.773848</td>\n      <td>0.784368</td>\n      <td>0.796716</td>\n      <td>1.426957</td>\n      <td>0.030679</td>\n      <td>without_log</td>\n      <td>4000</td>\n      <td>101_rest</td>\n      <td>3159.289832</td>\n      <td>NaN</td>\n    </tr>\n    <tr>\n      <th>25</th>\n      <td>0.846275</td>\n      <td>0.781005</td>\n      <td>0.817636</td>\n      <td>0.833896</td>\n      <td>0.857418</td>\n      <td>1.828210</td>\n      <td>0.059583</td>\n      <td>with_log</td>\n      <td>4000</td>\n      <td>101_rest</td>\n      <td>3385.099548</td>\n      <td>3.224693</td>\n    </tr>\n    <tr>\n      <th>30</th>\n      <td>0.825001</td>\n      <td>0.756331</td>\n      <td>0.798977</td>\n      <td>0.817884</td>\n      <td>0.838923</td>\n      <td>1.344567</td>\n      <td>0.044781</td>\n      <td>without_log</td>\n      <td>3000</td>\n      <td>101_rest</td>\n      <td>2475.002920</td>\n      <td>NaN</td>\n    </tr>\n    <tr>\n      <th>24</th>\n      <td>0.843002</td>\n      <td>0.781925</td>\n      <td>0.812795</td>\n      <td>0.830804</td>\n      <td>0.857719</td>\n      <td>1.476072</td>\n      <td>0.053493</td>\n      <td>with_log</td>\n      <td>3000</td>\n      <td>101_rest</td>\n      <td>2529.006528</td>\n      <td>2.888338</td>\n    </tr>\n    <tr>\n      <th>34</th>\n      <td>0.786159</td>\n      <td>0.753103</td>\n      <td>0.775888</td>\n      <td>0.785052</td>\n      <td>0.794276</td>\n      <td>1.113955</td>\n      <td>0.016554</td>\n      <td>without_log</td>\n      <td>2000</td>\n      <td>101_rest</td>\n      <td>1572.318538</td>\n      <td>NaN</td>\n    </tr>\n    <tr>\n      <th>28</th>\n      <td>0.808866</td>\n      <td>0.779230</td>\n      <td>0.798009</td>\n      <td>0.808190</td>\n      <td>0.816273</td>\n      <td>1.152234</td>\n      <td>0.017305</td>\n      <td>with_log</td>\n      <td>2000</td>\n      <td>101_rest</td>\n      <td>1617.732418</td>\n      <td>2.181961</td>\n    </tr>\n    <tr>\n      <th>35</th>\n      <td>0.784611</td>\n      <td>0.756012</td>\n      <td>0.774776</td>\n      <td>0.784174</td>\n      <td>0.791735</td>\n      <td>1.090199</td>\n      <td>0.016870</td>\n      <td>without_log</td>\n      <td>1000</td>\n      <td>101_rest</td>\n      <td>784.610505</td>\n      <td>NaN</td>\n    </tr>\n    <tr>\n      <th>29</th>\n      <td>0.809912</td>\n      <td>0.777927</td>\n      <td>0.800224</td>\n      <td>0.808616</td>\n      <td>0.816861</td>\n      <td>1.093521</td>\n      <td>0.019541</td>\n      <td>with_log</td>\n      <td>1000</td>\n      <td>101_rest</td>\n      <td>809.911784</td>\n      <td>7.147483</td>\n    </tr>\n    <tr>\n      <th>33</th>\n      <td>0.817897</td>\n      <td>0.768779</td>\n      <td>0.787039</td>\n      <td>0.799547</td>\n      <td>0.818681</td>\n      <td>1.209972</td>\n      <td>0.065714</td>\n      <td>without_log</td>\n      <td>100</td>\n      <td>101_rest</td>\n      <td>81.789729</td>\n      <td>NaN</td>\n    </tr>\n    <tr>\n      <th>27</th>\n      <td>0.883159</td>\n      <td>0.799442</td>\n      <td>0.838435</td>\n      <td>0.868113</td>\n      <td>0.919007</td>\n      <td>1.328629</td>\n      <td>0.071815</td>\n      <td>with_log</td>\n      <td>100</td>\n      <td>101_rest</td>\n      <td>88.315924</td>\n      <td>14.207728</td>\n    </tr>\n  </tbody>\n</table>\n</div>"
     },
     "execution_count": 43,
     "metadata": {},
     "output_type": "execute_result"
    }
   ],
   "source": [
    "df = rest_app.sort_values(by=['app_name', 'num_tests', 'log_status'], ascending=False)\n",
    "df['mean_overhead'] = df.groupby(['app_name', 'num_tests'], group_keys=True)['mean'].apply(lambda x: x.pct_change() * 100).to_numpy()\n",
    "df\n"
   ]
  },
  {
   "cell_type": "code",
   "execution_count": 44,
   "id": "354d3b65",
   "metadata": {
    "pycharm": {
     "name": "#%%\n"
    }
   },
   "outputs": [
    {
     "data": {
      "text/plain": "<Figure size 640x480 with 1 Axes>",
      "image/png": "[encoded data removed]"
     },
     "metadata": {},
     "output_type": "display_data"
    },
    {
     "data": {
      "text/plain": "<Figure size 640x480 with 0 Axes>"
     },
     "metadata": {},
     "output_type": "display_data"
    }
   ],
   "source": [
    "rest_app_mean_overhead = sns.lineplot(\n",
    "    data=df,\n",
    "    x=\"num_tests\",\n",
    "    y=\"mean_overhead\",\n",
    "    hue=\"log_status\",\n",
    "    palette = sns.color_palette(palette = [\"SteelBlue\", \"Salmon\"])).set(title='REST App: Mean Overhead',\n",
    "                                                                        xlabel='Number of Tests',\n",
    "                                                                        ylabel='Mean Overhead (%age)')\n",
    "\n",
    "logless_logs = mpatches.Patch(color='Salmon', label='Mean Overhead')\n",
    "\n",
    "plt.legend(handles=[logless_logs], title='Benchmarking', bbox_to_anchor=(1.02, 1), loc='upper left', borderaxespad=0)\n",
    "\n",
    "\n",
    "plt.show()\n",
    "plt.savefig('REST_app_mean_overhead.png')"
   ]
  },
  {
   "cell_type": "code",
   "execution_count": 45,
   "outputs": [],
   "source": [
    "increamentor_app = all_data.loc[all_data['app_name'] == '103_increamentor']"
   ],
   "metadata": {
    "collapsed": false,
    "pycharm": {
     "name": "#%%\n"
    }
   }
  },
  {
   "cell_type": "code",
   "execution_count": 46,
   "outputs": [
    {
     "data": {
      "text/plain": "        mean       min       q25    median       q75       max       std  \\\n21  0.543475  0.514763  0.523064  0.526288  0.547376  1.247756  0.049333   \n15  0.573551  0.563616  0.570835  0.572741  0.574698  0.832491  0.010140   \n20  0.525997  0.517115  0.522245  0.523945  0.525967  0.998046  0.017567   \n14  0.576245  0.566462  0.572483  0.574455  0.576699  0.916768  0.016539   \n19  0.526052  0.518377  0.523882  0.525689  0.527542  0.596213  0.003808   \n13  0.576162  0.564954  0.572483  0.574509  0.576938  1.046751  0.012829   \n23  0.524928  0.517773  0.522747  0.524474  0.526449  0.592257  0.003975   \n17  0.574789  0.566975  0.571875  0.573547  0.575874  1.110427  0.014870   \n18  0.526253  0.518703  0.523291  0.525209  0.527056  0.782083  0.011222   \n12  0.579009  0.566422  0.573524  0.576133  0.580358  0.678650  0.011176   \n22  0.580029  0.546184  0.555383  0.574018  0.592052  0.778033  0.033690   \n16  0.632012  0.575869  0.617086  0.625989  0.643695  0.742850  0.023345   \n\n     log_status  num_tests          app_name         time  mean_overhead  \n21  without_log       5000  103_increamentor  2717.376103            NaN  \n15     with_log       5000  103_increamentor  2867.752824       8.962115  \n20  without_log       4000  103_increamentor  2103.987097            NaN  \n14     with_log       4000  103_increamentor  2304.981688      10.024778  \n19  without_log       3000  103_increamentor  1578.156939            NaN  \n13     with_log       3000  103_increamentor  1728.487143       9.498675  \n23  without_log       2000  103_increamentor  1049.855170            NaN  \n17     with_log       2000  103_increamentor  1149.577503       9.525682  \n18  without_log       1000  103_increamentor   526.253030            NaN  \n12     with_log       1000  103_increamentor   579.008727       9.553033  \n22  without_log        100  103_increamentor    58.002932            NaN  \n16     with_log        100  103_increamentor    63.201222       5.533894  ",
      "text/html": "<div>\n<style scoped>\n    .dataframe tbody tr th:only-of-type {\n        vertical-align: middle;\n    }\n\n    .dataframe tbody tr th {\n        vertical-align: top;\n    }\n\n    .dataframe thead th {\n        text-align: right;\n    }\n</style>\n<table border=\"1\" class=\"dataframe\">\n  <thead>\n    <tr style=\"text-align: right;\">\n      <th></th>\n      <th>mean</th>\n      <th>min</th>\n      <th>q25</th>\n      <th>median</th>\n      <th>q75</th>\n      <th>max</th>\n      <th>std</th>\n      <th>log_status</th>\n      <th>num_tests</th>\n      <th>app_name</th>\n      <th>time</th>\n      <th>mean_overhead</th>\n    </tr>\n  </thead>\n  <tbody>\n    <tr>\n      <th>21</th>\n      <td>0.543475</td>\n      <td>0.514763</td>\n      <td>0.523064</td>\n      <td>0.526288</td>\n      <td>0.547376</td>\n      <td>1.247756</td>\n      <td>0.049333</td>\n      <td>without_log</td>\n      <td>5000</td>\n      <td>103_increamentor</td>\n      <td>2717.376103</td>\n      <td>NaN</td>\n    </tr>\n    <tr>\n      <th>15</th>\n      <td>0.573551</td>\n      <td>0.563616</td>\n      <td>0.570835</td>\n      <td>0.572741</td>\n      <td>0.574698</td>\n      <td>0.832491</td>\n      <td>0.010140</td>\n      <td>with_log</td>\n      <td>5000</td>\n      <td>103_increamentor</td>\n      <td>2867.752824</td>\n      <td>8.962115</td>\n    </tr>\n    <tr>\n      <th>20</th>\n      <td>0.525997</td>\n      <td>0.517115</td>\n      <td>0.522245</td>\n      <td>0.523945</td>\n      <td>0.525967</td>\n      <td>0.998046</td>\n      <td>0.017567</td>\n      <td>without_log</td>\n      <td>4000</td>\n      <td>103_increamentor</td>\n      <td>2103.987097</td>\n      <td>NaN</td>\n    </tr>\n    <tr>\n      <th>14</th>\n      <td>0.576245</td>\n      <td>0.566462</td>\n      <td>0.572483</td>\n      <td>0.574455</td>\n      <td>0.576699</td>\n      <td>0.916768</td>\n      <td>0.016539</td>\n      <td>with_log</td>\n      <td>4000</td>\n      <td>103_increamentor</td>\n      <td>2304.981688</td>\n      <td>10.024778</td>\n    </tr>\n    <tr>\n      <th>19</th>\n      <td>0.526052</td>\n      <td>0.518377</td>\n      <td>0.523882</td>\n      <td>0.525689</td>\n      <td>0.527542</td>\n      <td>0.596213</td>\n      <td>0.003808</td>\n      <td>without_log</td>\n      <td>3000</td>\n      <td>103_increamentor</td>\n      <td>1578.156939</td>\n      <td>NaN</td>\n    </tr>\n    <tr>\n      <th>13</th>\n      <td>0.576162</td>\n      <td>0.564954</td>\n      <td>0.572483</td>\n      <td>0.574509</td>\n      <td>0.576938</td>\n      <td>1.046751</td>\n      <td>0.012829</td>\n      <td>with_log</td>\n      <td>3000</td>\n      <td>103_increamentor</td>\n      <td>1728.487143</td>\n      <td>9.498675</td>\n    </tr>\n    <tr>\n      <th>23</th>\n      <td>0.524928</td>\n      <td>0.517773</td>\n      <td>0.522747</td>\n      <td>0.524474</td>\n      <td>0.526449</td>\n      <td>0.592257</td>\n      <td>0.003975</td>\n      <td>without_log</td>\n      <td>2000</td>\n      <td>103_increamentor</td>\n      <td>1049.855170</td>\n      <td>NaN</td>\n    </tr>\n    <tr>\n      <th>17</th>\n      <td>0.574789</td>\n      <td>0.566975</td>\n      <td>0.571875</td>\n      <td>0.573547</td>\n      <td>0.575874</td>\n      <td>1.110427</td>\n      <td>0.014870</td>\n      <td>with_log</td>\n      <td>2000</td>\n      <td>103_increamentor</td>\n      <td>1149.577503</td>\n      <td>9.525682</td>\n    </tr>\n    <tr>\n      <th>18</th>\n      <td>0.526253</td>\n      <td>0.518703</td>\n      <td>0.523291</td>\n      <td>0.525209</td>\n      <td>0.527056</td>\n      <td>0.782083</td>\n      <td>0.011222</td>\n      <td>without_log</td>\n      <td>1000</td>\n      <td>103_increamentor</td>\n      <td>526.253030</td>\n      <td>NaN</td>\n    </tr>\n    <tr>\n      <th>12</th>\n      <td>0.579009</td>\n      <td>0.566422</td>\n      <td>0.573524</td>\n      <td>0.576133</td>\n      <td>0.580358</td>\n      <td>0.678650</td>\n      <td>0.011176</td>\n      <td>with_log</td>\n      <td>1000</td>\n      <td>103_increamentor</td>\n      <td>579.008727</td>\n      <td>9.553033</td>\n    </tr>\n    <tr>\n      <th>22</th>\n      <td>0.580029</td>\n      <td>0.546184</td>\n      <td>0.555383</td>\n      <td>0.574018</td>\n      <td>0.592052</td>\n      <td>0.778033</td>\n      <td>0.033690</td>\n      <td>without_log</td>\n      <td>100</td>\n      <td>103_increamentor</td>\n      <td>58.002932</td>\n      <td>NaN</td>\n    </tr>\n    <tr>\n      <th>16</th>\n      <td>0.632012</td>\n      <td>0.575869</td>\n      <td>0.617086</td>\n      <td>0.625989</td>\n      <td>0.643695</td>\n      <td>0.742850</td>\n      <td>0.023345</td>\n      <td>with_log</td>\n      <td>100</td>\n      <td>103_increamentor</td>\n      <td>63.201222</td>\n      <td>5.533894</td>\n    </tr>\n  </tbody>\n</table>\n</div>"
     },
     "execution_count": 46,
     "metadata": {},
     "output_type": "execute_result"
    }
   ],
   "source": [
    "df = increamentor_app.sort_values(by=['app_name', 'num_tests', 'log_status'], ascending=False)\n",
    "df['mean_overhead'] = df.groupby(['app_name', 'num_tests'], group_keys=True)['mean'].apply(\n",
    "    lambda x: x.pct_change() * 100).to_numpy()\n",
    "df"
   ],
   "metadata": {
    "collapsed": false,
    "pycharm": {
     "name": "#%%\n"
    }
   }
  },
  {
   "cell_type": "code",
   "execution_count": 48,
   "outputs": [
    {
     "data": {
      "text/plain": "<Figure size 640x480 with 1 Axes>",
      "image/png": "[encoded data removed]"
     },
     "metadata": {},
     "output_type": "display_data"
    },
    {
     "data": {
      "text/plain": "<Figure size 640x480 with 0 Axes>"
     },
     "metadata": {},
     "output_type": "display_data"
    }
   ],
   "source": [
    "increamentor_app_mean_overhead = sns.lineplot(\n",
    "    data=df,\n",
    "    x=\"num_tests\",\n",
    "    y=\"mean_overhead\",\n",
    "    hue=\"log_status\",\n",
    "    palette = sns.color_palette(palette = [\"SteelBlue\", \"Salmon\"])).set(title='Increamentor App: Mean Overhead',\n",
    "                                                                        xlabel='Number of Tests',\n",
    "                                                                        ylabel='Mean Overhead (%age)')\n",
    "\n",
    "logless_logs = mpatches.Patch(color='Salmon', label='Mean Overhead')\n",
    "\n",
    "plt.legend(handles=[logless_logs], title='Benchmarking', bbox_to_anchor=(1.02, 1), loc='upper left', borderaxespad=0)\n",
    "\n",
    "\n",
    "plt.show()\n",
    "plt.savefig('increamentor_app_mean_overhead.png')"
   ],
   "metadata": {
    "collapsed": false,
    "pycharm": {
     "name": "#%%\n"
    }
   }
  },
  {
   "cell_type": "code",
   "execution_count": null,
   "id": "3591e907",
   "metadata": {
    "pycharm": {
     "name": "#%%\n"
    }
   },
   "outputs": [],
   "source": [
    "app2_manual_logging['mean']=app2_manual_logging['mean']/1000"
   ]
  },
  {
   "cell_type": "code",
   "execution_count": null,
   "id": "39876562",
   "metadata": {
    "pycharm": {
     "name": "#%%\n"
    }
   },
   "outputs": [],
   "source": [
    "app2 = app2_df.append(app2_manual_logging)"
   ]
  },
  {
   "cell_type": "code",
   "execution_count": null,
   "id": "db2330d9",
   "metadata": {
    "pycharm": {
     "name": "#%%\n"
    }
   },
   "outputs": [],
   "source": [
    "app2"
   ]
  },
  {
   "cell_type": "code",
   "execution_count": null,
   "id": "2582d23a",
   "metadata": {
    "pycharm": {
     "name": "#%%\n"
    }
   },
   "outputs": [],
   "source": [
    "app2_mean = sns.lineplot(\n",
    "    data=app2,\n",
    "    x=\"num_tests\",\n",
    "    y=\"mean\",\n",
    "    hue=\"log_status\",\n",
    "    palette = sns.color_palette(palette = [\"SteelBlue\" , \"Salmon\",\"OliveDrab\"])).set(title='App 2: mean',\n",
    "                                                                        xlabel='Number of Tests',\n",
    "                                                                        ylabel='Mean time(s)')\n",
    "\n",
    "logless = mpatches.Patch(color='SteelBlue', label='With LogLess')\n",
    "nologs = mpatches.Patch(color='Salmon', label='No Logs')\n",
    "manuallog = mpatches.Patch(color='OliveDrab', label='Manual Logs')\n",
    "\n",
    "plt.legend(handles=[logless, nologs,manuallog], title='Log Status',bbox_to_anchor=(1.02, 1), loc='upper left', borderaxespad=0)\n",
    "\n",
    "\n",
    "plt.show()\n",
    "plt.savefig('app2-mean.png')"
   ]
  },
  {
   "cell_type": "code",
   "execution_count": null,
   "id": "140eccff",
   "metadata": {
    "pycharm": {
     "name": "#%%\n"
    }
   },
   "outputs": [],
   "source": [
    "app3 = all_data.loc[all_data['app_name'] == 'app3']"
   ]
  },
  {
   "cell_type": "code",
   "execution_count": null,
   "id": "f63523d1",
   "metadata": {
    "pycharm": {
     "name": "#%%\n"
    }
   },
   "outputs": [],
   "source": [
    "app3_mean = sns.lineplot(\n",
    "    data=app3,\n",
    "    x=\"num_tests\",\n",
    "    y=\"mean\",\n",
    "    hue=\"log_status\",\n",
    "    palette = sns.color_palette(palette = [\"SteelBlue\" , \"Salmon\"])).set(title='App 3: mean',\n",
    "                                                                        xlabel='Number of Tests',\n",
    "                                                                        ylabel='Mean time(s)')\n",
    "\n",
    "logless = mpatches.Patch(color='SteelBlue', label='With LogLess')\n",
    "nologs = mpatches.Patch(color='Salmon', label='No Logs')\n",
    "\n",
    "plt.legend(handles=[logless, nologs], title='Log Status', bbox_to_anchor=(1.02, 1), loc='upper left', borderaxespad=0)\n",
    "\n",
    "\n",
    "plt.show()\n",
    "plt.savefig('app3-mean.png')"
   ]
  },
  {
   "cell_type": "code",
   "execution_count": null,
   "id": "7b740173",
   "metadata": {
    "pycharm": {
     "name": "#%%\n"
    }
   },
   "outputs": [],
   "source": [
    "app4 = all_data.loc[all_data['app_name'] == 'app4']"
   ]
  },
  {
   "cell_type": "code",
   "execution_count": null,
   "id": "258af3b3",
   "metadata": {
    "pycharm": {
     "name": "#%%\n"
    }
   },
   "outputs": [],
   "source": [
    "app4_mean = sns.lineplot(\n",
    "    data=app4,\n",
    "    x=\"num_tests\",\n",
    "    y=\"mean\",\n",
    "    hue=\"log_status\",\n",
    "    palette = sns.color_palette(palette = [\"SteelBlue\" , \"Salmon\"])).set(title='App 4: mean',\n",
    "                                                                        xlabel='Number of Tests',\n",
    "                                                                        ylabel='Mean time(s)')\n",
    "\n",
    "logless = mpatches.Patch(color='SteelBlue', label='With LogLess')\n",
    "nologs = mpatches.Patch(color='Salmon', label='No Logs')\n",
    "\n",
    "plt.legend(handles=[logless, nologs], title='Log Status', bbox_to_anchor=(1.02, 1), loc='upper left', borderaxespad=0)\n",
    "\n",
    "\n",
    "plt.show()\n",
    "plt.savefig('app4-mean.png')"
   ]
  },
  {
   "cell_type": "code",
   "execution_count": null,
   "id": "79c5f017",
   "metadata": {
    "pycharm": {
     "name": "#%%\n"
    }
   },
   "outputs": [],
   "source": [
    "app5 = all_data.loc[all_data['app_name'] == 'app5']"
   ]
  },
  {
   "cell_type": "code",
   "execution_count": null,
   "id": "71c7581e",
   "metadata": {
    "pycharm": {
     "name": "#%%\n"
    }
   },
   "outputs": [],
   "source": [
    "app5_mean = sns.lineplot(\n",
    "    data=app5,\n",
    "    x=\"num_tests\",\n",
    "    y=\"mean\",\n",
    "    hue=\"log_status\",\n",
    "    palette = sns.color_palette(palette = [\"SteelBlue\" , \"Salmon\"])).set(title='App 5: mean',\n",
    "                                                                        xlabel='Number of Tests',\n",
    "                                                                        ylabel='Mean time(s)')\n",
    "\n",
    "logless = mpatches.Patch(color='SteelBlue', label='With LogLess')\n",
    "nologs = mpatches.Patch(color='Salmon', label='No Logs')\n",
    "\n",
    "plt.legend(handles=[logless, nologs], title='Log Status', bbox_to_anchor=(1.02, 1), loc='upper left', borderaxespad=0)\n",
    "\n",
    "\n",
    "plt.show()\n",
    "plt.savefig('app5-mean.png')"
   ]
  },
  {
   "cell_type": "code",
   "execution_count": null,
   "id": "9c8650d7",
   "metadata": {
    "pycharm": {
     "name": "#%%\n"
    }
   },
   "outputs": [],
   "source": [
    "all_data = pd.read_csv('benchmarking_uid002.csv')\n",
    "#all_data = all_data.append(app2_manual_logging)"
   ]
  },
  {
   "cell_type": "code",
   "execution_count": null,
   "id": "b1cc0df0",
   "metadata": {
    "pycharm": {
     "name": "#%%\n"
    }
   },
   "outputs": [],
   "source": [
    "g = sns.FacetGrid(all_data, col='app_name',hue='log_status',sharey=False,palette = sns.color_palette(palette = [\"SteelBlue\" , \"Salmon\"]))\n",
    "g.map(sns.lineplot, \"num_tests\", \"mean\", legend = False).set(xlabel='Number of Tests',ylabel='Mean time(s)')\n",
    "\n",
    "logless = mpatches.Patch(color='SteelBlue', label='With LogLess')\n",
    "nologs = mpatches.Patch(color='Salmon', label='No Logs')\n",
    "\n",
    "plt.legend(handles=[logless, nologs], title='Log Status',bbox_to_anchor=(1.02, 1), loc='upper left', borderaxespad=0)\n",
    "\n",
    "\n",
    "plt.show()\n",
    "plt.savefig('all-mean-line.png')"
   ]
  },
  {
   "cell_type": "code",
   "execution_count": null,
   "id": "25dd1822",
   "metadata": {
    "pycharm": {
     "name": "#%%\n"
    }
   },
   "outputs": [],
   "source": [
    "g = sns.catplot(\n",
    "    data=all_data, kind=\"bar\",\n",
    "    x=\"num_tests\", y=\"mean\", hue=\"log_status\", col='app_name',errorbar=None, sharey=False,\n",
    "    palette = sns.color_palette(palette = [\"SteelBlue\" , \"Salmon\"])\n",
    ").set(xlabel='Number of Tests',ylabel='Mean time(s)')\n",
    "\n",
    "logless = mpatches.Patch(color='SteelBlue', label='With LogLess')\n",
    "nologs = mpatches.Patch(color='Salmon', label='No Logs')\n",
    "\n",
    "plt.legend(handles=[logless, nologs], title='Log Status',bbox_to_anchor=(1.02, 1), loc='upper left', borderaxespad=0)\n",
    "\n",
    "plt.show()\n",
    "plt.savefig('all-mean-bar.png')"
   ]
  },
  {
   "cell_type": "code",
   "execution_count": null,
   "id": "39f8531e",
   "metadata": {
    "pycharm": {
     "name": "#%%\n"
    }
   },
   "outputs": [],
   "source": []
  }
 ],
 "metadata": {
  "kernelspec": {
   "display_name": "Python 3 (ipykernel)",
   "language": "python",
   "name": "python3"
  },
  "language_info": {
   "codemirror_mode": {
    "name": "ipython",
    "version": 3
   },
   "file_extension": ".py",
   "mimetype": "text/x-python",
   "name": "python",
   "nbconvert_exporter": "python",
   "pygments_lexer": "ipython3",
   "version": "3.9.16"
  }
 },
 "nbformat": 4,
 "nbformat_minor": 5
}